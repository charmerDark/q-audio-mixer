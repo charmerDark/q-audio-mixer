{
 "cells": [
  {
   "cell_type": "code",
   "execution_count": 39,
   "metadata": {},
   "outputs": [],
   "source": [
    "import os\n",
    "from pydub import AudioSegment\n",
    "from pydub.playback import play\n",
    "import numpy as np\n",
    "from qiskit import QuantumCircuit,Aer,execute"
   ]
  },
  {
   "cell_type": "code",
   "execution_count": 40,
   "metadata": {},
   "outputs": [],
   "source": [
    "def create_control_circuit(n_tunes):\n",
    "    n_qubits=int(np.ceil(np.log2(n_tunes)))\n",
    "    unused_states=[i for i in range(n_tunes+1,2**(int(n_qubits)+1))]\n",
    "    circ=QuantumCircuit(n_qubits,n_qubits)\n",
    "    '''Build circuit below'''\n",
    "    circ.h(range(n_qubits-1))\n",
    "    circ.measure(1,0)\n",
    "    '''Circuit builr above this'''\n",
    "    backend = Aer.get_backend('statevector_simulator')\n",
    "    job = execute(circ, backend)\n",
    "    result = job.result().get_statevector(circ, decimals=3)\n",
    "    result=[abs(val) for val in result]\n",
    "    return circ,result"
   ]
  },
  {
   "cell_type": "code",
   "execution_count": 41,
   "metadata": {},
   "outputs": [
    {
     "name": "stdout",
     "output_type": "stream",
     "text": [
      "['160-bpm-drum-beat.wav', 'looperman-l-2340018-0248676-lightning.wav', 'Analog-synthesizer-piano-music-loop-106-bpm.wav', 'Simple-straight-beat-106-bpm.wav']\n"
     ]
    }
   ],
   "source": [
    "from os import listdir\n",
    "from os.path import isfile, join\n",
    "mypath='sounds/'\n",
    "onlyfiles = [f for f in listdir(mypath) if isfile(join(mypath, f))]\n",
    "print(onlyfiles)"
   ]
  },
  {
   "cell_type": "code",
   "execution_count": 42,
   "metadata": {},
   "outputs": [],
   "source": [
    "no_tunes=len(onlyfiles)\n",
    "circ,result=create_control_circuit(no_tunes)\n",
    "result = AudioSegment.silent(duration=2000)\n",
    "for i in range(len(onlyfiles)):\n",
    "    track=AudioSegment.from_wav(mypath+onlyfiles[i])+result[i]\n",
    "    result=result.overlay(track,loop=True)\n",
    "play(result)\n",
    "file_handle=result.export(\"output.wav\",format=\"wav\")"
   ]
  },
  {
   "cell_type": "code",
   "execution_count": 32,
   "metadata": {},
   "outputs": [
    {
     "data": {
      "image/png": "[encoded data removed]",
      "text/plain": [
       "<Figure size 146.652x204.68 with 1 Axes>"
      ]
     },
     "execution_count": 32,
     "metadata": {},
     "output_type": "execute_result"
    }
   ],
   "source": [
    "circ.draw('mpl')"
   ]
  },
  {
   "cell_type": "markdown",
   "metadata": {},
   "source": [
    "## "
   ]
  }
 ],
 "metadata": {
  "kernelspec": {
   "display_name": "Python 3",
   "language": "python",
   "name": "python3"
  },
  "language_info": {
   "codemirror_mode": {
    "name": "ipython",
    "version": 3
   },
   "file_extension": ".py",
   "mimetype": "text/x-python",
   "name": "python",
   "nbconvert_exporter": "python",
   "pygments_lexer": "ipython3",
   "version": "3.6.9"
  }
 },
 "nbformat": 4,
 "nbformat_minor": 4
}
